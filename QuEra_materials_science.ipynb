{
 "cells": [
  {
   "cell_type": "markdown",
   "id": "77dc04d7",
   "metadata": {},
   "source": [
    "# Simulation of graphene on QuEra"
   ]
  },
  {
   "cell_type": "markdown",
   "id": "ebdafa21",
   "metadata": {},
   "source": [
    "### TO DO:\n",
    "\n",
    "#### general\n",
    "- AWS access\n",
    "\n",
    "#### problem-specific\n",
    "- think of positive couplings\n",
    "- periodic boudnary conditions\n",
    "    - post-processing\n",
    "    - \"protective layer of atoms\" (needs local fields)\n",
    "    - scale up approach\n",
    "- redefine the problem in terms of graph partitioning"
   ]
  },
  {
   "cell_type": "markdown",
   "id": "5a378de9",
   "metadata": {},
   "source": [
    "## Build the graphene supercell"
   ]
  },
  {
   "cell_type": "code",
   "execution_count": 1,
   "id": "62b64faa",
   "metadata": {},
   "outputs": [
    {
     "data": {
      "text/plain": [
       "18"
      ]
     },
     "execution_count": 1,
     "metadata": {},
     "output_type": "execute_result"
    }
   ],
   "source": [
    "from pymatgen.core.structure import Structure\n",
    "from pymatgen.symmetry.analyzer import SpacegroupAnalyzer\n",
    "import copy\n",
    "import numpy as np\n",
    "\n",
    "lattice = np.array([[ 1.233862, -2.137112,  0.      ],\n",
    "                   [ 1.233862,  2.137112,  0.      ],\n",
    "                   [ 0.      ,  0.      ,  8.685038]])\n",
    "\n",
    "graphene = Structure(lattice, species=['C','C'], coords=[[2/3, 1/3, 0. ],[1/3, 2/3, 0.]])\n",
    "graphene = SpacegroupAnalyzer(graphene).get_conventional_standard_structure()\n",
    "\n",
    "n_supercell = 3\n",
    "scaling_matrix = np.identity(3)*n_supercell\n",
    "scaling_matrix[2][2] = 1\n",
    "graphene_supercell = copy.deepcopy(graphene)\n",
    "graphene_supercell.make_supercell(scaling_matrix)\n",
    "structure = graphene_supercell\n",
    "graphene_supercell.num_sites"
   ]
  },
  {
   "cell_type": "markdown",
   "id": "3f699cc7",
   "metadata": {},
   "source": [
    "graphene_supercell is a pymatgen Structure object"
   ]
  },
  {
   "cell_type": "markdown",
   "id": "a465daa9",
   "metadata": {},
   "source": [
    "## Build the adjacency matrix"
   ]
  },
  {
   "cell_type": "code",
   "execution_count": 3,
   "id": "160ea053",
   "metadata": {},
   "outputs": [
    {
     "data": {
      "text/plain": [
       "array([[0, 0, 0, 0, 0, 0, 0, 0, 0, 1, 1, 0, 0, 0, 0, 1, 0, 0],\n",
       "       [0, 0, 0, 0, 0, 0, 0, 0, 0, 0, 1, 1, 0, 0, 0, 0, 1, 0],\n",
       "       [0, 0, 0, 0, 0, 0, 0, 0, 0, 1, 0, 1, 0, 0, 0, 0, 0, 1],\n",
       "       [0, 0, 0, 0, 0, 0, 0, 0, 0, 1, 0, 0, 1, 1, 0, 0, 0, 0],\n",
       "       [0, 0, 0, 0, 0, 0, 0, 0, 0, 0, 1, 0, 0, 1, 1, 0, 0, 0],\n",
       "       [0, 0, 0, 0, 0, 0, 0, 0, 0, 0, 0, 1, 1, 0, 1, 0, 0, 0],\n",
       "       [0, 0, 0, 0, 0, 0, 0, 0, 0, 0, 0, 0, 1, 0, 0, 1, 1, 0],\n",
       "       [0, 0, 0, 0, 0, 0, 0, 0, 0, 0, 0, 0, 0, 1, 0, 0, 1, 1],\n",
       "       [0, 0, 0, 0, 0, 0, 0, 0, 0, 0, 0, 0, 0, 0, 1, 1, 0, 1],\n",
       "       [1, 0, 1, 1, 0, 0, 0, 0, 0, 0, 0, 0, 0, 0, 0, 0, 0, 0],\n",
       "       [1, 1, 0, 0, 1, 0, 0, 0, 0, 0, 0, 0, 0, 0, 0, 0, 0, 0],\n",
       "       [0, 1, 1, 0, 0, 1, 0, 0, 0, 0, 0, 0, 0, 0, 0, 0, 0, 0],\n",
       "       [0, 0, 0, 1, 0, 1, 1, 0, 0, 0, 0, 0, 0, 0, 0, 0, 0, 0],\n",
       "       [0, 0, 0, 1, 1, 0, 0, 1, 0, 0, 0, 0, 0, 0, 0, 0, 0, 0],\n",
       "       [0, 0, 0, 0, 1, 1, 0, 0, 1, 0, 0, 0, 0, 0, 0, 0, 0, 0],\n",
       "       [1, 0, 0, 0, 0, 0, 1, 0, 1, 0, 0, 0, 0, 0, 0, 0, 0, 0],\n",
       "       [0, 1, 0, 0, 0, 0, 1, 1, 0, 0, 0, 0, 0, 0, 0, 0, 0, 0],\n",
       "       [0, 0, 1, 0, 0, 0, 0, 1, 1, 0, 0, 0, 0, 0, 0, 0, 0, 0]])"
      ]
     },
     "execution_count": 3,
     "metadata": {},
     "output_type": "execute_result"
    }
   ],
   "source": [
    "import numpy as np\n",
    "    \n",
    "distance_matrix_pbc = np.round(structure.distance_matrix,5)\n",
    "\n",
    "shells = np.unique(distance_matrix_pbc[0])\n",
    "\n",
    "adjacency_matrix = np.round(distance_matrix_pbc,5) == np.round(shells[1],5)\n",
    "adjacency_matrix = adjacency_matrix.astype(int)\n",
    "adjacency_matrix"
   ]
  },
  {
   "cell_type": "markdown",
   "id": "bf16bcdc",
   "metadata": {},
   "source": [
    "## The initial QUBO matrix"
   ]
  },
  {
   "cell_type": "markdown",
   "id": "a54d526a",
   "metadata": {},
   "source": [
    "The initial QUBO matrix is built using the following assumptions:\n",
    "- each bond decreases the energy of the system by 1 arbitrary unit\n",
    "- only nearest neighbours are included in this model\n",
    "- if a an atom is next to a vacancy or if two vacancies are next to each other there is no bond\n",
    "\n",
    "The top right part of adjacency_matrix (changed by sign) can be used."
   ]
  },
  {
   "cell_type": "code",
   "execution_count": 13,
   "id": "01af8fc6",
   "metadata": {},
   "outputs": [
    {
     "data": {
      "text/plain": [
       "array([[ 0,  0,  0,  0,  0,  0,  0,  0,  0, -1, -1,  0,  0,  0,  0, -1,\n",
       "         0,  0],\n",
       "       [ 0,  0,  0,  0,  0,  0,  0,  0,  0,  0, -1, -1,  0,  0,  0,  0,\n",
       "        -1,  0],\n",
       "       [ 0,  0,  0,  0,  0,  0,  0,  0,  0, -1,  0, -1,  0,  0,  0,  0,\n",
       "         0, -1],\n",
       "       [ 0,  0,  0,  0,  0,  0,  0,  0,  0, -1,  0,  0, -1, -1,  0,  0,\n",
       "         0,  0],\n",
       "       [ 0,  0,  0,  0,  0,  0,  0,  0,  0,  0, -1,  0,  0, -1, -1,  0,\n",
       "         0,  0],\n",
       "       [ 0,  0,  0,  0,  0,  0,  0,  0,  0,  0,  0, -1, -1,  0, -1,  0,\n",
       "         0,  0],\n",
       "       [ 0,  0,  0,  0,  0,  0,  0,  0,  0,  0,  0,  0, -1,  0,  0, -1,\n",
       "        -1,  0],\n",
       "       [ 0,  0,  0,  0,  0,  0,  0,  0,  0,  0,  0,  0,  0, -1,  0,  0,\n",
       "        -1, -1],\n",
       "       [ 0,  0,  0,  0,  0,  0,  0,  0,  0,  0,  0,  0,  0,  0, -1, -1,\n",
       "         0, -1],\n",
       "       [ 0,  0,  0,  0,  0,  0,  0,  0,  0,  0,  0,  0,  0,  0,  0,  0,\n",
       "         0,  0],\n",
       "       [ 0,  0,  0,  0,  0,  0,  0,  0,  0,  0,  0,  0,  0,  0,  0,  0,\n",
       "         0,  0],\n",
       "       [ 0,  0,  0,  0,  0,  0,  0,  0,  0,  0,  0,  0,  0,  0,  0,  0,\n",
       "         0,  0],\n",
       "       [ 0,  0,  0,  0,  0,  0,  0,  0,  0,  0,  0,  0,  0,  0,  0,  0,\n",
       "         0,  0],\n",
       "       [ 0,  0,  0,  0,  0,  0,  0,  0,  0,  0,  0,  0,  0,  0,  0,  0,\n",
       "         0,  0],\n",
       "       [ 0,  0,  0,  0,  0,  0,  0,  0,  0,  0,  0,  0,  0,  0,  0,  0,\n",
       "         0,  0],\n",
       "       [ 0,  0,  0,  0,  0,  0,  0,  0,  0,  0,  0,  0,  0,  0,  0,  0,\n",
       "         0,  0],\n",
       "       [ 0,  0,  0,  0,  0,  0,  0,  0,  0,  0,  0,  0,  0,  0,  0,  0,\n",
       "         0,  0],\n",
       "       [ 0,  0,  0,  0,  0,  0,  0,  0,  0,  0,  0,  0,  0,  0,  0,  0,\n",
       "         0,  0]])"
      ]
     },
     "execution_count": 13,
     "metadata": {},
     "output_type": "execute_result"
    }
   ],
   "source": [
    "Q = -np.triu(adjacency_matrix)\n",
    "Q"
   ]
  },
  {
   "cell_type": "markdown",
   "id": "739011fa",
   "metadata": {},
   "source": [
    "## Calculating the energy classically using the QUBO matrix\n",
    "The energy can be calculated by using:\n",
    "$$\n",
    "E(\\textbf{x}) =  \\textbf{x}^\\textbf{T}\\textbf{Qx} = \n",
    "    \\sum_{i} Q_{i,i} x_{i} + \\sum_{i} \\sum_{j > i} Q_{i,j} x_{i}x_{j} \\ \\ \\ \\ \\ x_{i} \\in \\{0,1\\}\n",
    "$$\n",
    "\n",
    "In the $\\textbf{x}$ vector, $x_i$= 1 corresponds to an atom in position $i$, $x_i$= 0 corresponds to a vacancy in position $i$"
   ]
  },
  {
   "cell_type": "markdown",
   "id": "06382488",
   "metadata": {},
   "source": [
    "## 0 vacancy"
   ]
  },
  {
   "cell_type": "code",
   "execution_count": 17,
   "id": "ea4997ff",
   "metadata": {},
   "outputs": [
    {
     "data": {
      "text/plain": [
       "-27"
      ]
     },
     "execution_count": 17,
     "metadata": {},
     "output_type": "execute_result"
    }
   ],
   "source": [
    "x = np.array([1]*18)\n",
    "Qx = np.matmul(x,Q)\n",
    "E_0v = np.matmul(x,Qx)\n",
    "E_0v"
   ]
  },
  {
   "cell_type": "markdown",
   "id": "bab96b5a",
   "metadata": {},
   "source": [
    "## 1 vacancy"
   ]
  },
  {
   "cell_type": "markdown",
   "id": "df5600ab",
   "metadata": {},
   "source": [
    "3 broken bonds"
   ]
  },
  {
   "cell_type": "code",
   "execution_count": 18,
   "id": "d687e27c",
   "metadata": {},
   "outputs": [
    {
     "data": {
      "text/plain": [
       "-24"
      ]
     },
     "execution_count": 18,
     "metadata": {},
     "output_type": "execute_result"
    }
   ],
   "source": [
    "x = np.array([1]*18)\n",
    "x[0] = 0\n",
    "Qx = np.matmul(x,Q)\n",
    "np.matmul(x,Qx)"
   ]
  },
  {
   "cell_type": "markdown",
   "id": "3f767f28",
   "metadata": {},
   "source": [
    "## 2 vacancies"
   ]
  },
  {
   "cell_type": "markdown",
   "id": "e46621b0",
   "metadata": {},
   "source": [
    "Non-first neighbours (6 broken bonds)"
   ]
  },
  {
   "cell_type": "code",
   "execution_count": 19,
   "id": "670ceb9f",
   "metadata": {},
   "outputs": [
    {
     "data": {
      "text/plain": [
       "-21"
      ]
     },
     "execution_count": 19,
     "metadata": {},
     "output_type": "execute_result"
    }
   ],
   "source": [
    "x = np.array([1]*18)\n",
    "x[0] = 0\n",
    "x[1] = 0\n",
    "Qx = np.matmul(x,Q)\n",
    "np.matmul(x,Qx)"
   ]
  },
  {
   "cell_type": "markdown",
   "id": "3d8145a8",
   "metadata": {},
   "source": [
    "First neighbours (5 broken bonds)"
   ]
  },
  {
   "cell_type": "code",
   "execution_count": 20,
   "id": "534466bb",
   "metadata": {},
   "outputs": [
    {
     "data": {
      "text/plain": [
       "-22"
      ]
     },
     "execution_count": 20,
     "metadata": {},
     "output_type": "execute_result"
    }
   ],
   "source": [
    "x = np.array([1]*18)\n",
    "x[0] = 0\n",
    "x[9] = 0\n",
    "Qx = np.matmul(x,Q)\n",
    "np.matmul(x,Qx)"
   ]
  },
  {
   "cell_type": "markdown",
   "id": "f8118de2",
   "metadata": {},
   "source": [
    "## Make interaction positive\n",
    "Q_p = QUBO positive"
   ]
  },
  {
   "cell_type": "code",
   "execution_count": 35,
   "id": "c0e31385",
   "metadata": {},
   "outputs": [],
   "source": [
    "Q_p = np.triu(adjacency_matrix)"
   ]
  },
  {
   "cell_type": "code",
   "execution_count": 33,
   "id": "2281b78b",
   "metadata": {},
   "outputs": [
    {
     "data": {
      "text/plain": [
       "27"
      ]
     },
     "execution_count": 33,
     "metadata": {},
     "output_type": "execute_result"
    }
   ],
   "source": [
    "x = np.array([1]*18)\n",
    "Qx = np.matmul(x,Q_p)\n",
    "np.matmul(x,Qx)"
   ]
  },
  {
   "cell_type": "markdown",
   "id": "ea5cab41",
   "metadata": {},
   "source": [
    "## 0 vacancy"
   ]
  },
  {
   "cell_type": "code",
   "execution_count": 34,
   "id": "aadd634f",
   "metadata": {},
   "outputs": [
    {
     "data": {
      "text/plain": [
       "27"
      ]
     },
     "execution_count": 34,
     "metadata": {},
     "output_type": "execute_result"
    }
   ],
   "source": [
    "x = np.array([1]*18)\n",
    "Qx = np.matmul(x,Q_p)\n",
    "E_0v = np.matmul(x,Qx)\n",
    "E_0v"
   ]
  },
  {
   "cell_type": "markdown",
   "id": "12a636f9",
   "metadata": {},
   "source": [
    "## 1 vacancy"
   ]
  },
  {
   "cell_type": "markdown",
   "id": "06214b1e",
   "metadata": {},
   "source": [
    "3 broken bonds"
   ]
  },
  {
   "cell_type": "code",
   "execution_count": 26,
   "id": "60e90425",
   "metadata": {},
   "outputs": [
    {
     "data": {
      "text/plain": [
       "0"
      ]
     },
     "execution_count": 26,
     "metadata": {},
     "output_type": "execute_result"
    }
   ],
   "source": [
    "x = np.array([0]*18)\n",
    "x[0] = 1\n",
    "Qx = np.matmul(x,Q_p)\n",
    "np.matmul(x,Qx)"
   ]
  },
  {
   "cell_type": "markdown",
   "id": "bc6d4dd2",
   "metadata": {},
   "source": [
    "## 2 vacancies"
   ]
  },
  {
   "cell_type": "markdown",
   "id": "4e5ad148",
   "metadata": {},
   "source": [
    "Non-first neighbours (6 broken bonds)"
   ]
  },
  {
   "cell_type": "code",
   "execution_count": 19,
   "id": "460bee32",
   "metadata": {},
   "outputs": [
    {
     "data": {
      "text/plain": [
       "-21"
      ]
     },
     "execution_count": 19,
     "metadata": {},
     "output_type": "execute_result"
    }
   ],
   "source": [
    "x = np.array([1]*18)\n",
    "x[0] = 0\n",
    "x[1] = 0\n",
    "Qx = np.matmul(x,Q)\n",
    "np.matmul(x,Qx)"
   ]
  }
 ],
 "metadata": {
  "kernelspec": {
   "display_name": "Python 3 (ipykernel)",
   "language": "python",
   "name": "python3"
  },
  "language_info": {
   "codemirror_mode": {
    "name": "ipython",
    "version": 3
   },
   "file_extension": ".py",
   "mimetype": "text/x-python",
   "name": "python",
   "nbconvert_exporter": "python",
   "pygments_lexer": "ipython3",
   "version": "3.9.12"
  }
 },
 "nbformat": 4,
 "nbformat_minor": 5
}
